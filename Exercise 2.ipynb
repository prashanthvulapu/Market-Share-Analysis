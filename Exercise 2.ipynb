{
 "cells": [
  {
   "cell_type": "code",
   "execution_count": 1,
   "metadata": {},
   "outputs": [],
   "source": [
    "import findspark\n",
    "findspark.init()\n",
    "from pyspark.sql import SparkSession\n",
    "spark = SparkSession.builder.getOrCreate()"
   ]
  },
  {
   "cell_type": "code",
   "execution_count": 2,
   "metadata": {},
   "outputs": [],
   "source": [
    "#reading incentives csv file\n",
    "incentives = spark.read.option(\"header\",True).csv(\"C:/Papu/Inmar/Exercise 2/incentives.csv\")"
   ]
  },
  {
   "cell_type": "code",
   "execution_count": 3,
   "metadata": {},
   "outputs": [
    {
     "name": "stdout",
     "output_type": "stream",
     "text": [
      "+------------+--------+-----------+-----------+\n",
      "|INCENTIVE_ID|CLIENTID|ACTIVE_DATE|EXPIRE_DATE|\n",
      "+------------+--------+-----------+-----------+\n",
      "|      251815|     186|  11/1/2017| 12/14/2017|\n",
      "|      252231|     186|  12/1/2017| 12/31/2017|\n",
      "|      292723|     186|  11/1/2017| 12/14/2017|\n",
      "|      308996|     186|   6/1/2017| 12/31/2017|\n",
      "|      309945|     186|   6/1/2017| 12/31/2017|\n",
      "|      310053|     186|   6/1/2017| 12/31/2017|\n",
      "|      310532|     186|   6/1/2017| 12/31/2017|\n",
      "|      319840|     186|  8/31/2017| 12/14/2017|\n",
      "|      324257|     186|  10/2/2017|  12/2/2017|\n",
      "|      342678|     186| 10/15/2017| 12/14/2017|\n",
      "|      342694|     186|  8/27/2017|  12/1/2017|\n",
      "|      343012|     186| 11/10/2017| 12/31/2017|\n",
      "|      343147|     186| 10/15/2017| 12/14/2017|\n",
      "|      343162|     186| 10/15/2017| 12/14/2017|\n",
      "|      345089|     186|  11/1/2017| 12/30/2017|\n",
      "|      352136|     186| 10/29/2017| 12/26/2017|\n",
      "|      352494|     186|  11/1/2017|  12/2/2017|\n",
      "|      352523|     186|  10/1/2017| 12/30/2017|\n",
      "|      352548|     186|  11/1/2017|  12/2/2017|\n",
      "|      352668|     186|  10/8/2017| 12/31/2017|\n",
      "+------------+--------+-----------+-----------+\n",
      "only showing top 20 rows\n",
      "\n"
     ]
    }
   ],
   "source": [
    "#displaying few rows in incentives dataframe\n",
    "incentives.show()"
   ]
  },
  {
   "cell_type": "code",
   "execution_count": 4,
   "metadata": {},
   "outputs": [],
   "source": [
    "#reading incentive_upc csv file into dataframe\n",
    "incentive_upc = spark.read.option(\"header\",True).csv(\"C:/Papu/Inmar/Exercise 2/incentive_upc.csv\")"
   ]
  },
  {
   "cell_type": "code",
   "execution_count": 5,
   "metadata": {},
   "outputs": [],
   "source": [
    "#uisng sql function from pyspark\n",
    "from pyspark.sql.functions import *"
   ]
  },
  {
   "cell_type": "code",
   "execution_count": 6,
   "metadata": {},
   "outputs": [],
   "source": [
    "#resultant dataframe shows join of incentives and incentive_upc data frames\n",
    "df = incentives.join(incentive_upc,incentives.INCENTIVE_ID == incentive_upc.INCENTIVE_ID)"
   ]
  },
  {
   "cell_type": "code",
   "execution_count": 7,
   "metadata": {},
   "outputs": [
    {
     "name": "stdout",
     "output_type": "stream",
     "text": [
      "+------------+--------+-----------+-----------+------------+----------+\n",
      "|INCENTIVE_ID|CLIENTID|ACTIVE_DATE|EXPIRE_DATE|INCENTIVE_ID|  UPC_CODE|\n",
      "+------------+--------+-----------+-----------+------------+----------+\n",
      "|      251815|     186|  11/1/2017| 12/14/2017|      251815|3600010517|\n",
      "|      251815|     186|  11/1/2017| 12/14/2017|      251815|3600010518|\n",
      "|      251815|     186|  11/1/2017| 12/14/2017|      251815|3600011954|\n",
      "|      251815|     186|  11/1/2017| 12/14/2017|      251815|3600011956|\n",
      "|      251815|     186|  11/1/2017| 12/14/2017|      251815|3600011957|\n",
      "|      251815|     186|  11/1/2017| 12/14/2017|      251815|3600011958|\n",
      "|      251815|     186|  11/1/2017| 12/14/2017|      251815|3600011959|\n",
      "|      251815|     186|  11/1/2017| 12/14/2017|      251815|3600011960|\n",
      "|      251815|     186|  11/1/2017| 12/14/2017|      251815|3600025809|\n",
      "|      251815|     186|  11/1/2017| 12/14/2017|      251815|3600025810|\n",
      "|      251815|     186|  11/1/2017| 12/14/2017|      251815|3600029161|\n",
      "|      251815|     186|  11/1/2017| 12/14/2017|      251815|3600029162|\n",
      "|      251815|     186|  11/1/2017| 12/14/2017|      251815|3600030517|\n",
      "|      251815|     186|  11/1/2017| 12/14/2017|      251815|3600030518|\n",
      "|      251815|     186|  11/1/2017| 12/14/2017|      251815|3600030519|\n",
      "|      251815|     186|  11/1/2017| 12/14/2017|      251815|3600030521|\n",
      "|      251815|     186|  11/1/2017| 12/14/2017|      251815|3600030525|\n",
      "|      251815|     186|  11/1/2017| 12/14/2017|      251815|3600030526|\n",
      "|      251815|     186|  11/1/2017| 12/14/2017|      251815|3600030527|\n",
      "|      251815|     186|  11/1/2017| 12/14/2017|      251815|3600030528|\n",
      "+------------+--------+-----------+-----------+------------+----------+\n",
      "only showing top 20 rows\n",
      "\n"
     ]
    }
   ],
   "source": [
    "df.show()"
   ]
  },
  {
   "cell_type": "code",
   "execution_count": 8,
   "metadata": {},
   "outputs": [],
   "source": [
    "import pandas as pd"
   ]
  },
  {
   "cell_type": "code",
   "execution_count": 9,
   "metadata": {},
   "outputs": [],
   "source": [
    "transaction_items = pd.read_csv(\"https://s3.amazonaws.com/inmar-interview-dataanalyst/Rawdata/Transaction_item.txt\")"
   ]
  },
  {
   "cell_type": "code",
   "execution_count": 10,
   "metadata": {},
   "outputs": [
    {
     "name": "stdout",
     "output_type": "stream",
     "text": [
      "<class 'pandas.core.frame.DataFrame'>\n",
      "RangeIndex: 516569 entries, 0 to 516568\n",
      "Data columns (total 1 columns):\n",
      "CLIENTID|DATE|BASKET_ID|PRODUCT_ID|QUANTITY    516569 non-null object\n",
      "dtypes: object(1)\n",
      "memory usage: 3.9+ MB\n"
     ]
    }
   ],
   "source": [
    "transaction_items.info()"
   ]
  },
  {
   "cell_type": "code",
   "execution_count": 11,
   "metadata": {},
   "outputs": [],
   "source": [
    "transaction_items['CLIENTID'], transaction_items['DATE'], transaction_items['BASKET_ID'], transaction_items['PRODUCT_ID'], transaction_items['QUANTITY']=\\\n",
    "transaction_items['CLIENTID|DATE|BASKET_ID|PRODUCT_ID|QUANTITY'].str.split('|').str"
   ]
  },
  {
   "cell_type": "code",
   "execution_count": 12,
   "metadata": {},
   "outputs": [
    {
     "data": {
      "text/plain": [
       "pandas.core.frame.DataFrame"
      ]
     },
     "execution_count": 12,
     "metadata": {},
     "output_type": "execute_result"
    }
   ],
   "source": [
    "type(transaction_items)"
   ]
  },
  {
   "cell_type": "code",
   "execution_count": 13,
   "metadata": {},
   "outputs": [
    {
     "name": "stdout",
     "output_type": "stream",
     "text": [
      "<class 'pandas.core.frame.DataFrame'>\n",
      "RangeIndex: 516569 entries, 0 to 516568\n",
      "Data columns (total 6 columns):\n",
      "CLIENTID|DATE|BASKET_ID|PRODUCT_ID|QUANTITY    516569 non-null object\n",
      "CLIENTID                                       516569 non-null object\n",
      "DATE                                           516569 non-null object\n",
      "BASKET_ID                                      516569 non-null object\n",
      "PRODUCT_ID                                     516569 non-null object\n",
      "QUANTITY                                       516569 non-null object\n",
      "dtypes: object(6)\n",
      "memory usage: 23.6+ MB\n"
     ]
    }
   ],
   "source": [
    "transaction_items.info()"
   ]
  },
  {
   "cell_type": "code",
   "execution_count": 14,
   "metadata": {},
   "outputs": [
    {
     "data": {
      "text/html": [
       "<div>\n",
       "<style scoped>\n",
       "    .dataframe tbody tr th:only-of-type {\n",
       "        vertical-align: middle;\n",
       "    }\n",
       "\n",
       "    .dataframe tbody tr th {\n",
       "        vertical-align: top;\n",
       "    }\n",
       "\n",
       "    .dataframe thead th {\n",
       "        text-align: right;\n",
       "    }\n",
       "</style>\n",
       "<table border=\"1\" class=\"dataframe\">\n",
       "  <thead>\n",
       "    <tr style=\"text-align: right;\">\n",
       "      <th></th>\n",
       "      <th>CLIENTID</th>\n",
       "      <th>DATE</th>\n",
       "      <th>BASKET_ID</th>\n",
       "      <th>PRODUCT_ID</th>\n",
       "      <th>QUANTITY</th>\n",
       "    </tr>\n",
       "  </thead>\n",
       "  <tbody>\n",
       "    <tr>\n",
       "      <th>0</th>\n",
       "      <td>186</td>\n",
       "      <td>2016-12-11</td>\n",
       "      <td>201612000202185545</td>\n",
       "      <td>2840003400</td>\n",
       "      <td>1</td>\n",
       "    </tr>\n",
       "    <tr>\n",
       "      <th>1</th>\n",
       "      <td>186</td>\n",
       "      <td>2016-12-11</td>\n",
       "      <td>201612000202185545</td>\n",
       "      <td>7210006600</td>\n",
       "      <td>1</td>\n",
       "    </tr>\n",
       "    <tr>\n",
       "      <th>2</th>\n",
       "      <td>186</td>\n",
       "      <td>2016-12-11</td>\n",
       "      <td>201612000202185545</td>\n",
       "      <td>60069900154</td>\n",
       "      <td>1</td>\n",
       "    </tr>\n",
       "    <tr>\n",
       "      <th>3</th>\n",
       "      <td>186</td>\n",
       "      <td>2016-12-11</td>\n",
       "      <td>201612000202185545</td>\n",
       "      <td>3935900103</td>\n",
       "      <td>2</td>\n",
       "    </tr>\n",
       "    <tr>\n",
       "      <th>4</th>\n",
       "      <td>186</td>\n",
       "      <td>2016-12-11</td>\n",
       "      <td>201612000202185545</td>\n",
       "      <td>2100005773</td>\n",
       "      <td>2</td>\n",
       "    </tr>\n",
       "  </tbody>\n",
       "</table>\n",
       "</div>"
      ],
      "text/plain": [
       "  CLIENTID        DATE           BASKET_ID   PRODUCT_ID QUANTITY\n",
       "0      186  2016-12-11  201612000202185545   2840003400        1\n",
       "1      186  2016-12-11  201612000202185545   7210006600        1\n",
       "2      186  2016-12-11  201612000202185545  60069900154        1\n",
       "3      186  2016-12-11  201612000202185545   3935900103        2\n",
       "4      186  2016-12-11  201612000202185545   2100005773        2"
      ]
     },
     "execution_count": 14,
     "metadata": {},
     "output_type": "execute_result"
    }
   ],
   "source": [
    "transaction_items.drop(['CLIENTID|DATE|BASKET_ID|PRODUCT_ID|QUANTITY'], axis=1,inplace=True)\n",
    "transaction_items.head()"
   ]
  },
  {
   "cell_type": "code",
   "execution_count": 15,
   "metadata": {},
   "outputs": [],
   "source": [
    "transaction_items1 = pd.read_csv(\"https://s3.amazonaws.com/inmar-interview-dataanalyst/Rawdata/Transaction_items1.txt\")"
   ]
  },
  {
   "cell_type": "code",
   "execution_count": 16,
   "metadata": {},
   "outputs": [],
   "source": [
    "transaction_items1['CLIENTID'], transaction_items1['DATE'], transaction_items1['BASKET_ID'], transaction_items1['PRODUCT_ID'], transaction_items1['QUANTITY']=\\\n",
    "transaction_items1['CLIENTID|DATE|BASKET_ID|PRODUCT_ID|QUANTITY'].str.split('|').str"
   ]
  },
  {
   "cell_type": "code",
   "execution_count": 17,
   "metadata": {},
   "outputs": [
    {
     "data": {
      "text/html": [
       "<div>\n",
       "<style scoped>\n",
       "    .dataframe tbody tr th:only-of-type {\n",
       "        vertical-align: middle;\n",
       "    }\n",
       "\n",
       "    .dataframe tbody tr th {\n",
       "        vertical-align: top;\n",
       "    }\n",
       "\n",
       "    .dataframe thead th {\n",
       "        text-align: right;\n",
       "    }\n",
       "</style>\n",
       "<table border=\"1\" class=\"dataframe\">\n",
       "  <thead>\n",
       "    <tr style=\"text-align: right;\">\n",
       "      <th></th>\n",
       "      <th>CLIENTID</th>\n",
       "      <th>DATE</th>\n",
       "      <th>BASKET_ID</th>\n",
       "      <th>PRODUCT_ID</th>\n",
       "      <th>QUANTITY</th>\n",
       "    </tr>\n",
       "  </thead>\n",
       "  <tbody>\n",
       "    <tr>\n",
       "      <th>0</th>\n",
       "      <td>186</td>\n",
       "      <td>2018-07-06</td>\n",
       "      <td>201807000057579467</td>\n",
       "      <td>3700030757</td>\n",
       "      <td>1</td>\n",
       "    </tr>\n",
       "    <tr>\n",
       "      <th>1</th>\n",
       "      <td>186</td>\n",
       "      <td>2018-07-06</td>\n",
       "      <td>201807000057579467</td>\n",
       "      <td>443699</td>\n",
       "      <td>1</td>\n",
       "    </tr>\n",
       "    <tr>\n",
       "      <th>2</th>\n",
       "      <td>186</td>\n",
       "      <td>2018-07-11</td>\n",
       "      <td>201807000116894357</td>\n",
       "      <td>3700096260</td>\n",
       "      <td>1</td>\n",
       "    </tr>\n",
       "    <tr>\n",
       "      <th>3</th>\n",
       "      <td>186</td>\n",
       "      <td>2018-07-11</td>\n",
       "      <td>201807000116894357</td>\n",
       "      <td>443727</td>\n",
       "      <td>1</td>\n",
       "    </tr>\n",
       "    <tr>\n",
       "      <th>4</th>\n",
       "      <td>186</td>\n",
       "      <td>2018-07-15</td>\n",
       "      <td>201807000189782840</td>\n",
       "      <td>4132235655</td>\n",
       "      <td>1</td>\n",
       "    </tr>\n",
       "  </tbody>\n",
       "</table>\n",
       "</div>"
      ],
      "text/plain": [
       "  CLIENTID        DATE           BASKET_ID  PRODUCT_ID QUANTITY\n",
       "0      186  2018-07-06  201807000057579467  3700030757        1\n",
       "1      186  2018-07-06  201807000057579467      443699        1\n",
       "2      186  2018-07-11  201807000116894357  3700096260        1\n",
       "3      186  2018-07-11  201807000116894357      443727        1\n",
       "4      186  2018-07-15  201807000189782840  4132235655        1"
      ]
     },
     "execution_count": 17,
     "metadata": {},
     "output_type": "execute_result"
    }
   ],
   "source": [
    "transaction_items1.drop(['CLIENTID|DATE|BASKET_ID|PRODUCT_ID|QUANTITY'], axis=1,inplace=True)\n",
    "transaction_items1.head()"
   ]
  },
  {
   "cell_type": "code",
   "execution_count": 18,
   "metadata": {},
   "outputs": [],
   "source": [
    "ti = pd.concat([transaction_items,transaction_items1])"
   ]
  },
  {
   "cell_type": "code",
   "execution_count": 19,
   "metadata": {},
   "outputs": [
    {
     "data": {
      "text/plain": [
       "516569"
      ]
     },
     "execution_count": 19,
     "metadata": {},
     "output_type": "execute_result"
    }
   ],
   "source": [
    "len(transaction_items)"
   ]
  },
  {
   "cell_type": "code",
   "execution_count": 20,
   "metadata": {},
   "outputs": [
    {
     "data": {
      "text/plain": [
       "1322892"
      ]
     },
     "execution_count": 20,
     "metadata": {},
     "output_type": "execute_result"
    }
   ],
   "source": [
    "len(transaction_items1)"
   ]
  },
  {
   "cell_type": "code",
   "execution_count": 21,
   "metadata": {},
   "outputs": [
    {
     "data": {
      "text/plain": [
       "1839461"
      ]
     },
     "execution_count": 21,
     "metadata": {},
     "output_type": "execute_result"
    }
   ],
   "source": [
    "len(ti)"
   ]
  },
  {
   "cell_type": "code",
   "execution_count": 22,
   "metadata": {},
   "outputs": [],
   "source": [
    "transactionitems = spark.createDataFrame(ti)"
   ]
  },
  {
   "cell_type": "code",
   "execution_count": 23,
   "metadata": {},
   "outputs": [
    {
     "name": "stdout",
     "output_type": "stream",
     "text": [
      "root\n",
      " |-- CLIENTID: string (nullable = true)\n",
      " |-- DATE: string (nullable = true)\n",
      " |-- BASKET_ID: string (nullable = true)\n",
      " |-- PRODUCT_ID: string (nullable = true)\n",
      " |-- QUANTITY: string (nullable = true)\n",
      "\n"
     ]
    }
   ],
   "source": [
    "transactionitems.printSchema()"
   ]
  },
  {
   "cell_type": "code",
   "execution_count": 24,
   "metadata": {},
   "outputs": [],
   "source": [
    "transactions_pd = pd.read_csv(\"https://s3.amazonaws.com/inmar-interview-dataanalyst/Rawdata/Transactions.txt\")"
   ]
  },
  {
   "cell_type": "code",
   "execution_count": 25,
   "metadata": {},
   "outputs": [
    {
     "data": {
      "text/plain": [
       "pyspark.sql.dataframe.DataFrame"
      ]
     },
     "execution_count": 25,
     "metadata": {},
     "output_type": "execute_result"
    }
   ],
   "source": [
    "type(transactionitems)"
   ]
  },
  {
   "cell_type": "code",
   "execution_count": 26,
   "metadata": {},
   "outputs": [
    {
     "data": {
      "text/html": [
       "<div>\n",
       "<style scoped>\n",
       "    .dataframe tbody tr th:only-of-type {\n",
       "        vertical-align: middle;\n",
       "    }\n",
       "\n",
       "    .dataframe tbody tr th {\n",
       "        vertical-align: top;\n",
       "    }\n",
       "\n",
       "    .dataframe thead th {\n",
       "        text-align: right;\n",
       "    }\n",
       "</style>\n",
       "<table border=\"1\" class=\"dataframe\">\n",
       "  <thead>\n",
       "    <tr style=\"text-align: right;\">\n",
       "      <th></th>\n",
       "      <th>CLIENTID|DATE|BASKET_ID|CONSUMER_ID_ID</th>\n",
       "    </tr>\n",
       "  </thead>\n",
       "  <tbody>\n",
       "    <tr>\n",
       "      <th>0</th>\n",
       "      <td>186|2018-07-11|201807000115668487|15124</td>\n",
       "    </tr>\n",
       "    <tr>\n",
       "      <th>1</th>\n",
       "      <td>186|2018-07-09|201807000100675726|204102</td>\n",
       "    </tr>\n",
       "    <tr>\n",
       "      <th>2</th>\n",
       "      <td>186|2018-07-08|201807000083647501|13188</td>\n",
       "    </tr>\n",
       "    <tr>\n",
       "      <th>3</th>\n",
       "      <td>186|2018-07-21|201807000276629716|80397</td>\n",
       "    </tr>\n",
       "    <tr>\n",
       "      <th>4</th>\n",
       "      <td>186|2018-07-09|201807000102930137|205496</td>\n",
       "    </tr>\n",
       "  </tbody>\n",
       "</table>\n",
       "</div>"
      ],
      "text/plain": [
       "     CLIENTID|DATE|BASKET_ID|CONSUMER_ID_ID\n",
       "0   186|2018-07-11|201807000115668487|15124\n",
       "1  186|2018-07-09|201807000100675726|204102\n",
       "2   186|2018-07-08|201807000083647501|13188\n",
       "3   186|2018-07-21|201807000276629716|80397\n",
       "4  186|2018-07-09|201807000102930137|205496"
      ]
     },
     "execution_count": 26,
     "metadata": {},
     "output_type": "execute_result"
    }
   ],
   "source": [
    "transactions_pd.head()"
   ]
  },
  {
   "cell_type": "code",
   "execution_count": 27,
   "metadata": {},
   "outputs": [],
   "source": [
    "transactions_pd['CLIENTID'], transactions_pd['DATE'], transactions_pd['BASKET_ID'], transactions_pd['CONSUMER_ID_ID']=\\\n",
    "transactions_pd['CLIENTID|DATE|BASKET_ID|CONSUMER_ID_ID'].str.split('|').str"
   ]
  },
  {
   "cell_type": "code",
   "execution_count": 28,
   "metadata": {},
   "outputs": [
    {
     "data": {
      "text/html": [
       "<div>\n",
       "<style scoped>\n",
       "    .dataframe tbody tr th:only-of-type {\n",
       "        vertical-align: middle;\n",
       "    }\n",
       "\n",
       "    .dataframe tbody tr th {\n",
       "        vertical-align: top;\n",
       "    }\n",
       "\n",
       "    .dataframe thead th {\n",
       "        text-align: right;\n",
       "    }\n",
       "</style>\n",
       "<table border=\"1\" class=\"dataframe\">\n",
       "  <thead>\n",
       "    <tr style=\"text-align: right;\">\n",
       "      <th></th>\n",
       "      <th>CLIENTID|DATE|BASKET_ID|CONSUMER_ID_ID</th>\n",
       "      <th>CLIENTID</th>\n",
       "      <th>DATE</th>\n",
       "      <th>BASKET_ID</th>\n",
       "      <th>CONSUMER_ID_ID</th>\n",
       "    </tr>\n",
       "  </thead>\n",
       "  <tbody>\n",
       "    <tr>\n",
       "      <th>0</th>\n",
       "      <td>186|2018-07-11|201807000115668487|15124</td>\n",
       "      <td>186</td>\n",
       "      <td>2018-07-11</td>\n",
       "      <td>201807000115668487</td>\n",
       "      <td>15124</td>\n",
       "    </tr>\n",
       "    <tr>\n",
       "      <th>1</th>\n",
       "      <td>186|2018-07-09|201807000100675726|204102</td>\n",
       "      <td>186</td>\n",
       "      <td>2018-07-09</td>\n",
       "      <td>201807000100675726</td>\n",
       "      <td>204102</td>\n",
       "    </tr>\n",
       "    <tr>\n",
       "      <th>2</th>\n",
       "      <td>186|2018-07-08|201807000083647501|13188</td>\n",
       "      <td>186</td>\n",
       "      <td>2018-07-08</td>\n",
       "      <td>201807000083647501</td>\n",
       "      <td>13188</td>\n",
       "    </tr>\n",
       "    <tr>\n",
       "      <th>3</th>\n",
       "      <td>186|2018-07-21|201807000276629716|80397</td>\n",
       "      <td>186</td>\n",
       "      <td>2018-07-21</td>\n",
       "      <td>201807000276629716</td>\n",
       "      <td>80397</td>\n",
       "    </tr>\n",
       "    <tr>\n",
       "      <th>4</th>\n",
       "      <td>186|2018-07-09|201807000102930137|205496</td>\n",
       "      <td>186</td>\n",
       "      <td>2018-07-09</td>\n",
       "      <td>201807000102930137</td>\n",
       "      <td>205496</td>\n",
       "    </tr>\n",
       "  </tbody>\n",
       "</table>\n",
       "</div>"
      ],
      "text/plain": [
       "     CLIENTID|DATE|BASKET_ID|CONSUMER_ID_ID CLIENTID        DATE  \\\n",
       "0   186|2018-07-11|201807000115668487|15124      186  2018-07-11   \n",
       "1  186|2018-07-09|201807000100675726|204102      186  2018-07-09   \n",
       "2   186|2018-07-08|201807000083647501|13188      186  2018-07-08   \n",
       "3   186|2018-07-21|201807000276629716|80397      186  2018-07-21   \n",
       "4  186|2018-07-09|201807000102930137|205496      186  2018-07-09   \n",
       "\n",
       "            BASKET_ID CONSUMER_ID_ID  \n",
       "0  201807000115668487          15124  \n",
       "1  201807000100675726         204102  \n",
       "2  201807000083647501          13188  \n",
       "3  201807000276629716          80397  \n",
       "4  201807000102930137         205496  "
      ]
     },
     "execution_count": 28,
     "metadata": {},
     "output_type": "execute_result"
    }
   ],
   "source": [
    "transactions_pd.head()"
   ]
  },
  {
   "cell_type": "code",
   "execution_count": 29,
   "metadata": {},
   "outputs": [
    {
     "data": {
      "text/html": [
       "<div>\n",
       "<style scoped>\n",
       "    .dataframe tbody tr th:only-of-type {\n",
       "        vertical-align: middle;\n",
       "    }\n",
       "\n",
       "    .dataframe tbody tr th {\n",
       "        vertical-align: top;\n",
       "    }\n",
       "\n",
       "    .dataframe thead th {\n",
       "        text-align: right;\n",
       "    }\n",
       "</style>\n",
       "<table border=\"1\" class=\"dataframe\">\n",
       "  <thead>\n",
       "    <tr style=\"text-align: right;\">\n",
       "      <th></th>\n",
       "      <th>CLIENTID</th>\n",
       "      <th>DATE</th>\n",
       "      <th>BASKET_ID</th>\n",
       "      <th>CONSUMER_ID_ID</th>\n",
       "    </tr>\n",
       "  </thead>\n",
       "  <tbody>\n",
       "    <tr>\n",
       "      <th>0</th>\n",
       "      <td>186</td>\n",
       "      <td>2018-07-11</td>\n",
       "      <td>201807000115668487</td>\n",
       "      <td>15124</td>\n",
       "    </tr>\n",
       "    <tr>\n",
       "      <th>1</th>\n",
       "      <td>186</td>\n",
       "      <td>2018-07-09</td>\n",
       "      <td>201807000100675726</td>\n",
       "      <td>204102</td>\n",
       "    </tr>\n",
       "    <tr>\n",
       "      <th>2</th>\n",
       "      <td>186</td>\n",
       "      <td>2018-07-08</td>\n",
       "      <td>201807000083647501</td>\n",
       "      <td>13188</td>\n",
       "    </tr>\n",
       "    <tr>\n",
       "      <th>3</th>\n",
       "      <td>186</td>\n",
       "      <td>2018-07-21</td>\n",
       "      <td>201807000276629716</td>\n",
       "      <td>80397</td>\n",
       "    </tr>\n",
       "    <tr>\n",
       "      <th>4</th>\n",
       "      <td>186</td>\n",
       "      <td>2018-07-09</td>\n",
       "      <td>201807000102930137</td>\n",
       "      <td>205496</td>\n",
       "    </tr>\n",
       "  </tbody>\n",
       "</table>\n",
       "</div>"
      ],
      "text/plain": [
       "  CLIENTID        DATE           BASKET_ID CONSUMER_ID_ID\n",
       "0      186  2018-07-11  201807000115668487          15124\n",
       "1      186  2018-07-09  201807000100675726         204102\n",
       "2      186  2018-07-08  201807000083647501          13188\n",
       "3      186  2018-07-21  201807000276629716          80397\n",
       "4      186  2018-07-09  201807000102930137         205496"
      ]
     },
     "execution_count": 29,
     "metadata": {},
     "output_type": "execute_result"
    }
   ],
   "source": [
    "transactions_pd.drop(['CLIENTID|DATE|BASKET_ID|CONSUMER_ID_ID'], axis=1,inplace=True)\n",
    "transactions_pd.head()"
   ]
  },
  {
   "cell_type": "code",
   "execution_count": 30,
   "metadata": {},
   "outputs": [],
   "source": [
    "transactions = spark.createDataFrame(transactions_pd)"
   ]
  },
  {
   "cell_type": "code",
   "execution_count": 31,
   "metadata": {},
   "outputs": [
    {
     "name": "stdout",
     "output_type": "stream",
     "text": [
      "root\n",
      " |-- CLIENTID: string (nullable = true)\n",
      " |-- DATE: string (nullable = true)\n",
      " |-- BASKET_ID: string (nullable = true)\n",
      " |-- CONSUMER_ID_ID: string (nullable = true)\n",
      "\n"
     ]
    }
   ],
   "source": [
    "transactions.printSchema()"
   ]
  },
  {
   "cell_type": "code",
   "execution_count": 32,
   "metadata": {},
   "outputs": [
    {
     "name": "stdout",
     "output_type": "stream",
     "text": [
      "+------------+--------+-----------+-----------+\n",
      "|INCENTIVE_ID|CLIENTID|ACTIVE_DATE|EXPIRE_DATE|\n",
      "+------------+--------+-----------+-----------+\n",
      "|      251815|     186|  11/1/2017| 12/14/2017|\n",
      "|      252231|     186|  12/1/2017| 12/31/2017|\n",
      "|      292723|     186|  11/1/2017| 12/14/2017|\n",
      "|      308996|     186|   6/1/2017| 12/31/2017|\n",
      "|      309945|     186|   6/1/2017| 12/31/2017|\n",
      "|      310053|     186|   6/1/2017| 12/31/2017|\n",
      "|      310532|     186|   6/1/2017| 12/31/2017|\n",
      "|      319840|     186|  8/31/2017| 12/14/2017|\n",
      "|      324257|     186|  10/2/2017|  12/2/2017|\n",
      "|      342678|     186| 10/15/2017| 12/14/2017|\n",
      "|      342694|     186|  8/27/2017|  12/1/2017|\n",
      "|      343012|     186| 11/10/2017| 12/31/2017|\n",
      "|      343147|     186| 10/15/2017| 12/14/2017|\n",
      "|      343162|     186| 10/15/2017| 12/14/2017|\n",
      "|      345089|     186|  11/1/2017| 12/30/2017|\n",
      "|      352136|     186| 10/29/2017| 12/26/2017|\n",
      "|      352494|     186|  11/1/2017|  12/2/2017|\n",
      "|      352523|     186|  10/1/2017| 12/30/2017|\n",
      "|      352548|     186|  11/1/2017|  12/2/2017|\n",
      "|      352668|     186|  10/8/2017| 12/31/2017|\n",
      "+------------+--------+-----------+-----------+\n",
      "only showing top 20 rows\n",
      "\n"
     ]
    }
   ],
   "source": [
    "incentives.show()"
   ]
  },
  {
   "cell_type": "code",
   "execution_count": 33,
   "metadata": {},
   "outputs": [
    {
     "name": "stdout",
     "output_type": "stream",
     "text": [
      "+------------+----------+\n",
      "|INCENTIVE_ID|  UPC_CODE|\n",
      "+------------+----------+\n",
      "|      251815|3600010517|\n",
      "|      251815|3600010518|\n",
      "|      251815|3600011954|\n",
      "|      251815|3600011956|\n",
      "|      251815|3600011957|\n",
      "|      251815|3600011958|\n",
      "|      251815|3600011959|\n",
      "|      251815|3600011960|\n",
      "|      251815|3600025809|\n",
      "|      251815|3600025810|\n",
      "|      251815|3600029161|\n",
      "|      251815|3600029162|\n",
      "|      251815|3600030517|\n",
      "|      251815|3600030518|\n",
      "|      251815|3600030519|\n",
      "|      251815|3600030521|\n",
      "|      251815|3600030525|\n",
      "|      251815|3600030526|\n",
      "|      251815|3600030527|\n",
      "|      251815|3600030528|\n",
      "+------------+----------+\n",
      "only showing top 20 rows\n",
      "\n"
     ]
    }
   ],
   "source": [
    "incentive_upc.show()"
   ]
  },
  {
   "cell_type": "code",
   "execution_count": 34,
   "metadata": {},
   "outputs": [
    {
     "name": "stdout",
     "output_type": "stream",
     "text": [
      "+--------+----------+------------------+--------------+\n",
      "|CLIENTID|      DATE|         BASKET_ID|CONSUMER_ID_ID|\n",
      "+--------+----------+------------------+--------------+\n",
      "|     186|2018-07-11|201807000115668487|         15124|\n",
      "|     186|2018-07-09|201807000100675726|        204102|\n",
      "|     186|2018-07-08|201807000083647501|         13188|\n",
      "|     186|2018-07-21|201807000276629716|         80397|\n",
      "|     186|2018-07-09|201807000102930137|        205496|\n",
      "|     186|2018-07-21|201807000262403808|          1629|\n",
      "|     186|2018-07-25|201807000319479637|          8374|\n",
      "|     186|2018-07-05|201807000040168223|          1072|\n",
      "|     186|2018-07-13|201807000186686321|          1956|\n",
      "|     186|2018-07-11|201807000117017750|         36889|\n",
      "|     186|2018-07-13|201807000166458216|         12787|\n",
      "|     186|2018-07-10|201807000106075626|        196733|\n",
      "|     186|2018-07-06|201807000048973596|        164999|\n",
      "|     186|2018-07-13|201807000191884193|          7765|\n",
      "|     186|2018-07-05|201807000040276322|         93998|\n",
      "|     186|2018-07-10|201807000112472044|        208208|\n",
      "|     186|2018-07-13|201807000175774286|         45876|\n",
      "|     186|2018-07-02|201807000014551194|         11968|\n",
      "|     186|2018-07-14|201807000183941109|        203541|\n",
      "|     186|2018-07-14|201807000170289623|         26447|\n",
      "+--------+----------+------------------+--------------+\n",
      "only showing top 20 rows\n",
      "\n"
     ]
    }
   ],
   "source": [
    "transactions.show()"
   ]
  },
  {
   "cell_type": "code",
   "execution_count": 35,
   "metadata": {},
   "outputs": [
    {
     "name": "stdout",
     "output_type": "stream",
     "text": [
      "+--------+----------+------------------+-----------+--------+\n",
      "|CLIENTID|      DATE|         BASKET_ID| PRODUCT_ID|QUANTITY|\n",
      "+--------+----------+------------------+-----------+--------+\n",
      "|     186|2016-12-11|201612000202185545| 2840003400|       1|\n",
      "|     186|2016-12-11|201612000202185545| 7210006600|       1|\n",
      "|     186|2016-12-11|201612000202185545|60069900154|       1|\n",
      "|     186|2016-12-11|201612000202185545| 3935900103|       2|\n",
      "|     186|2016-12-11|201612000202185545| 2100005773|       2|\n",
      "|     186|2016-12-11|201612000202185545| 4300000953|       4|\n",
      "|     186|2016-12-11|201612000202185545| 3400005200|       1|\n",
      "|     186|2016-12-11|201612000202185545| 5070000003|       2|\n",
      "|     186|2016-12-11|201612000202185545|81547301041|       2|\n",
      "|     186|2016-12-11|201612000202185545| 3760010506|       1|\n",
      "|     186|2016-12-11|201612000202185545| 4850001833|       1|\n",
      "|     186|2016-12-11|201612000202185545| 5070056670|       1|\n",
      "|     186|2016-12-11|201612000202185545| 5070024415|       1|\n",
      "|     186|2016-12-11|201612000202185545|81547301037|       1|\n",
      "|     186|2016-12-11|201612000202185545| 5000001051|       1|\n",
      "|     186|2016-12-11|201612000202185545|65272910113|       1|\n",
      "|     186|2016-12-11|201612000202185545|74816291547|       2|\n",
      "|     186|2016-12-11|201612000202185545| 2100002820|       2|\n",
      "|     186|2016-12-11|201612000202185545| 3770032217|       8|\n",
      "|     186|2016-12-11|201612000202185545| 2100005774|       2|\n",
      "+--------+----------+------------------+-----------+--------+\n",
      "only showing top 20 rows\n",
      "\n"
     ]
    }
   ],
   "source": [
    "transactionitems.show()"
   ]
  },
  {
   "cell_type": "code",
   "execution_count": 36,
   "metadata": {},
   "outputs": [],
   "source": [
    "## table - dataframes\n",
    "# incentives - incentives\n",
    "# incentive_upc - incentive_upc\n",
    "# transactions - transactions\n",
    "# transactionitems (combined both tables into 1) - transactionitems"
   ]
  },
  {
   "cell_type": "code",
   "execution_count": 37,
   "metadata": {},
   "outputs": [
    {
     "data": {
      "text/plain": [
       "DataFrame[INCENTIVE_ID: string, CLIENTID: string, ACTIVE_DATE: string, EXPIRE_DATE: string]"
      ]
     },
     "metadata": {},
     "output_type": "display_data"
    }
   ],
   "source": [
    "display(incentives)"
   ]
  },
  {
   "cell_type": "code",
   "execution_count": 38,
   "metadata": {},
   "outputs": [],
   "source": [
    "from pyspark.sql import SQLContext\n",
    "sqlContext = SQLContext(spark)"
   ]
  },
  {
   "cell_type": "code",
   "execution_count": 39,
   "metadata": {},
   "outputs": [],
   "source": [
    "#registering the dataframes as temporary tables for querying the data\n",
    "incentives.registerTempTable('incentives_table')\n",
    "incentive_upc.registerTempTable('incentive_upc_table')\n",
    "transactions.registerTempTable('transactions_table')\n",
    "transactionitems.registerTempTable('transactionitems_table')"
   ]
  },
  {
   "cell_type": "code",
   "execution_count": 40,
   "metadata": {},
   "outputs": [
    {
     "name": "stdout",
     "output_type": "stream",
     "text": [
      "+------------+--------+-----------+-----------+\n",
      "|INCENTIVE_ID|CLIENTID|ACTIVE_DATE|EXPIRE_DATE|\n",
      "+------------+--------+-----------+-----------+\n",
      "|      251815|     186|  11/1/2017| 12/14/2017|\n",
      "|      252231|     186|  12/1/2017| 12/31/2017|\n",
      "|      292723|     186|  11/1/2017| 12/14/2017|\n",
      "|      308996|     186|   6/1/2017| 12/31/2017|\n",
      "|      309945|     186|   6/1/2017| 12/31/2017|\n",
      "|      310053|     186|   6/1/2017| 12/31/2017|\n",
      "|      310532|     186|   6/1/2017| 12/31/2017|\n",
      "|      319840|     186|  8/31/2017| 12/14/2017|\n",
      "|      324257|     186|  10/2/2017|  12/2/2017|\n",
      "|      342678|     186| 10/15/2017| 12/14/2017|\n",
      "+------------+--------+-----------+-----------+\n",
      "only showing top 10 rows\n",
      "\n"
     ]
    }
   ],
   "source": [
    "sqlContext.sql(\"\"\" select * from incentives_table as inc\"\"\").show(10)"
   ]
  },
  {
   "cell_type": "code",
   "execution_count": 41,
   "metadata": {},
   "outputs": [
    {
     "name": "stdout",
     "output_type": "stream",
     "text": [
      "+------------+----------+\n",
      "|INCENTIVE_ID|  UPC_CODE|\n",
      "+------------+----------+\n",
      "|      251815|3600010517|\n",
      "|      251815|3600010518|\n",
      "|      251815|3600011954|\n",
      "|      251815|3600011956|\n",
      "|      251815|3600011957|\n",
      "|      251815|3600011958|\n",
      "|      251815|3600011959|\n",
      "|      251815|3600011960|\n",
      "|      251815|3600025809|\n",
      "|      251815|3600025810|\n",
      "+------------+----------+\n",
      "only showing top 10 rows\n",
      "\n"
     ]
    }
   ],
   "source": [
    "sqlContext.sql(\"\"\" select * from incentive_upc_table as inc_upc\"\"\").show(10)"
   ]
  },
  {
   "cell_type": "code",
   "execution_count": 42,
   "metadata": {},
   "outputs": [
    {
     "name": "stdout",
     "output_type": "stream",
     "text": [
      "+--------+----------+------------------+--------------+\n",
      "|CLIENTID|      DATE|         BASKET_ID|CONSUMER_ID_ID|\n",
      "+--------+----------+------------------+--------------+\n",
      "|     186|2018-07-11|201807000115668487|         15124|\n",
      "|     186|2018-07-09|201807000100675726|        204102|\n",
      "|     186|2018-07-08|201807000083647501|         13188|\n",
      "|     186|2018-07-21|201807000276629716|         80397|\n",
      "|     186|2018-07-09|201807000102930137|        205496|\n",
      "|     186|2018-07-21|201807000262403808|          1629|\n",
      "|     186|2018-07-25|201807000319479637|          8374|\n",
      "|     186|2018-07-05|201807000040168223|          1072|\n",
      "|     186|2018-07-13|201807000186686321|          1956|\n",
      "|     186|2018-07-11|201807000117017750|         36889|\n",
      "+--------+----------+------------------+--------------+\n",
      "only showing top 10 rows\n",
      "\n"
     ]
    }
   ],
   "source": [
    "sqlContext.sql(\"\"\" select * from transactions_table as trans\"\"\").show(10)"
   ]
  },
  {
   "cell_type": "code",
   "execution_count": 45,
   "metadata": {},
   "outputs": [
    {
     "name": "stdout",
     "output_type": "stream",
     "text": [
      "+------------+----------+------------+--------+-----------+-----------+--------+----------+------------------+--------------+\n",
      "|INCENTIVE_ID|  UPC_CODE|INCENTIVE_ID|CLIENTID|ACTIVE_DATE|EXPIRE_DATE|CLIENTID|      DATE|         BASKET_ID|CONSUMER_ID_ID|\n",
      "+------------+----------+------------+--------+-----------+-----------+--------+----------+------------------+--------------+\n",
      "|      251815|3600010517|      251815|     186|  11/1/2017| 12/14/2017|     186|2018-07-11|201807000115668487|         15124|\n",
      "|      251815|3600010517|      251815|     186|  11/1/2017| 12/14/2017|     186|2018-07-09|201807000100675726|        204102|\n",
      "|      251815|3600010517|      251815|     186|  11/1/2017| 12/14/2017|     186|2018-07-08|201807000083647501|         13188|\n",
      "|      251815|3600010517|      251815|     186|  11/1/2017| 12/14/2017|     186|2018-07-21|201807000276629716|         80397|\n",
      "|      251815|3600010517|      251815|     186|  11/1/2017| 12/14/2017|     186|2018-07-09|201807000102930137|        205496|\n",
      "|      251815|3600010517|      251815|     186|  11/1/2017| 12/14/2017|     186|2018-07-21|201807000262403808|          1629|\n",
      "|      251815|3600010517|      251815|     186|  11/1/2017| 12/14/2017|     186|2018-07-25|201807000319479637|          8374|\n",
      "|      251815|3600010517|      251815|     186|  11/1/2017| 12/14/2017|     186|2018-07-05|201807000040168223|          1072|\n",
      "|      251815|3600010517|      251815|     186|  11/1/2017| 12/14/2017|     186|2018-07-13|201807000186686321|          1956|\n",
      "|      251815|3600010517|      251815|     186|  11/1/2017| 12/14/2017|     186|2018-07-11|201807000117017750|         36889|\n",
      "+------------+----------+------------+--------+-----------+-----------+--------+----------+------------------+--------------+\n",
      "only showing top 10 rows\n",
      "\n"
     ]
    }
   ],
   "source": [
    "sqlContext.sql(\"\"\" select * from incentive_upc_table inc_upc \\\n",
    "                   inner join incentives_table inc on inc_upc.INCENTIVE_ID = inc.INCENTIVE_ID \\\n",
    "                   inner join transactions_table trans on inc.CLIENTID = trans.CLIENTID\"\"\").show(10)"
   ]
  },
  {
   "cell_type": "code",
   "execution_count": null,
   "metadata": {},
   "outputs": [],
   "source": [
    "sqlContext.sql(\"\"\" select inc_upc.UPC_CODE, inc_upc.INCENTIVE_ID, inc.ACTIVE_DATE, inc.EXPIRE_DATE, trans.CLIENTID,\\\n",
    "                   trans.BASKET_ID, trans.CONSUMER_ID_ID, trans.DATE \\\n",
    "                   from incentive_upc_table inc_upc \\\n",
    "                   inner join incentives_table inc on inc_upc.INCENTIVE_ID = inc.INCENTIVE_ID \\\n",
    "                   inner join transactions_table trans on inc.CLIENTID = trans.CLIENTID \\\n",
    "                   inner join transactionitems_table transitems on trans.CLIENTID = transitems.CLIENTID  and trans.BASKET_ID = transitems.BASKET_ID and trans.DATE = transitems.DATE\"\"\").show(10)"
   ]
  },
  {
   "cell_type": "code",
   "execution_count": null,
   "metadata": {},
   "outputs": [],
   "source": []
  }
 ],
 "metadata": {
  "kernelspec": {
   "display_name": "Python 3",
   "language": "python",
   "name": "python3"
  },
  "language_info": {
   "codemirror_mode": {
    "name": "ipython",
    "version": 3
   },
   "file_extension": ".py",
   "mimetype": "text/x-python",
   "name": "python",
   "nbconvert_exporter": "python",
   "pygments_lexer": "ipython3",
   "version": "3.6.5"
  }
 },
 "nbformat": 4,
 "nbformat_minor": 2
}
